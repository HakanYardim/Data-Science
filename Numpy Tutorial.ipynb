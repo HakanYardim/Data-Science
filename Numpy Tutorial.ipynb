{
 "cells": [
  {
   "cell_type": "markdown",
   "metadata": {},
   "source": [
    "# NumPy Creating Arrays\n",
    "NumPy is used to work with arrays. The array object in NumPy is called ndarray"
   ]
  },
  {
   "cell_type": "code",
   "execution_count": 8,
   "metadata": {},
   "outputs": [
    {
     "name": "stdout",
     "output_type": "stream",
     "text": [
      "[1 2 3 4 5]\n",
      "<class 'numpy.ndarray'>\n",
      "[[10 20 30]\n",
      " [40 50 60]]\n",
      "<class 'numpy.ndarray'>\n",
      "[[[ 1  2  3]\n",
      "  [ 4  5  6]\n",
      "  [ 7  8  9]]\n",
      "\n",
      " [[ 6  7  8]\n",
      "  [ 9 10 11]\n",
      "  [12 13 14]]\n",
      "\n",
      " [[15 16 17]\n",
      "  [19 20 21]\n",
      "  [22 23 24]]]\n",
      "3\n"
     ]
    }
   ],
   "source": [
    "import numpy as np\n",
    "\n",
    "#Array Creation\n",
    "arr1 = np.array([1,2,3,4,5]) #1D Array\n",
    "print(arr1)\n",
    "print(type(arr1)) #Check type\n",
    "\n",
    "arr2 = np.array([[10,20,30],[40,50,60]]) #2D Array\n",
    "print(arr2)\n",
    "print(type(arr2))\n",
    "\n",
    "arr3 = np.array([[[1,2,3],[4,5,6],[7,8,9]], [[6,7,8], [9,10,11],[12,13,14]], [[15,16,17],[19,20,21],[22,23,24]]])\n",
    "print(arr3)\n",
    "print(arr3.ndim) #Check numbber of dimensions"
   ]
  },
  {
   "cell_type": "markdown",
   "metadata": {},
   "source": [
    "# Array Dimensions\n",
    "0-D arrays, or Scalars, are the elements in an array. Each value in an array is a 0-D array.\n",
    "An array that has 0-D arrays as its elements is called uni-dimensional or 1-D array.\n",
    "An array that has 1-D arrays as its elements is called a 2-D array.\n",
    "An array that has 2-D arrays (matrices) as its elements is called 3-D array.\n"
   ]
  },
  {
   "cell_type": "code",
   "execution_count": 10,
   "metadata": {},
   "outputs": [
    {
     "name": "stdout",
     "output_type": "stream",
     "text": [
      "[[[[1 2 3]]]]\n"
     ]
    }
   ],
   "source": [
    "arr4 = np.array([1,2,3], ndmin = 4)\n",
    "print(arr4)\n"
   ]
  },
  {
   "cell_type": "code",
   "execution_count": 22,
   "metadata": {},
   "outputs": [
    {
     "name": "stdout",
     "output_type": "stream",
     "text": [
      "1\n",
      "the third element on second row:  60\n",
      "the third element on third row in second array block: 14\n",
      "5\n",
      "30\n"
     ]
    }
   ],
   "source": [
    "print(arr1[0]) #Accessing an element of a 1D array\n",
    "print(\"the third element on second row: \" , arr2[1,2]) # [row number-1, element number-1]\n",
    "print(\"the third element on third row in second array block:\", arr3[1,2,2])\n",
    "\n",
    "#Use NEGATIVE INDEXING to strat from the end\n",
    "print(arr1[-1]) #outputs -5\n",
    "print(arr2[0,-1]) #outputs 30\n"
   ]
  },
  {
   "cell_type": "markdown",
   "metadata": {},
   "source": [
    "# Slicing arrays\n",
    "Slicing in python means taking elements from one given index to another given index.\n",
    "\n",
    "We pass slice instead of index like this: [start:end].\n",
    "\n",
    "We can also define the step, like this: [start:end:step]."
   ]
  },
  {
   "cell_type": "code",
   "execution_count": 29,
   "metadata": {},
   "outputs": [
    {
     "name": "stdout",
     "output_type": "stream",
     "text": [
      "[2 3]\n",
      "[[20 30]\n",
      " [50 60]]\n",
      "\n",
      "[[[ 6]\n",
      "  [ 9]]\n",
      "\n",
      " [[11]\n",
      "  [14]]\n",
      "\n",
      " [[21]\n",
      "  [24]]]\n",
      "<class 'numpy.ndarray'>\n"
     ]
    }
   ],
   "source": [
    "#Slicing Arrays \n",
    "subArray1D = arr1[1:3] \n",
    "print(subArray1D) #outputs the 2nd and 3rd element of 1D Array\n",
    "\n",
    "subArray2D = arr2[0:2, 1:3] #Accessing the the second and third element in the first and second row\n",
    "print(subArray2D)\n",
    "print()\n",
    "subArray3D = arr3[0:3, 1:3, 2:3] #Accessing all the 2D arrays and then accessing to the third element on the second and third row\n",
    "print(subArray3D)\n",
    "print(type(subArray3D))\n"
   ]
  },
  {
   "cell_type": "markdown",
   "metadata": {},
   "source": [
    "# Data Types in NumPy\n",
    "NumPy has some extra data types, and refer to data types with one character, like i for integers, u for unsigned integers etc.\n",
    "\n",
    "Below is a list of all data types in NumPy and the characters used to represent them.\n",
    "\n",
    "i - integer\n",
    "b - boolean\n",
    "u - unsigned integer\n",
    "f - float\n",
    "c - complex float\n",
    "m - timedelta\n",
    "M - datetime\n",
    "O - object\n",
    "S - string\n",
    "U - unicode string\n",
    "V - fixed chunk of memory for other type ( void )"
   ]
  },
  {
   "cell_type": "code",
   "execution_count": 39,
   "metadata": {},
   "outputs": [
    {
     "name": "stdout",
     "output_type": "stream",
     "text": [
      "int64\n",
      "[b'apple' b'banana' b'strawberry' b'pear' b'watermelon']\n",
      "|S10\n",
      "[[ 5 10 15 20]\n",
      " [25 30 35 40]]\n"
     ]
    }
   ],
   "source": [
    "print(arr1.dtype) #outputs int\n",
    "\n",
    "fruits = np.array([\"apple\",\"banana\",\"strawberry\",\"pear\",\"watermelon\"], dtype = \"S\")\n",
    "print(fruits)\n",
    "print(fruits.dtype)\n",
    "\n",
    "\n",
    "decimals = np.array([[5.7,10.3,15.4,20.9],[25.5,30.1,35.6,40.7]]) \n",
    "wholeNum = decimals.astype(\"i\") #casting elements of the array from double to int \n",
    "print(wholeNum)\n"
   ]
  },
  {
   "cell_type": "code",
   "execution_count": 40,
   "metadata": {},
   "outputs": [
    {
     "name": "stdout",
     "output_type": "stream",
     "text": [
      "[[[1]\n",
      "  [2]]\n",
      "\n",
      " [[3]\n",
      "  [4]]]\n"
     ]
    }
   ],
   "source": [
    "x = np.array([[[1],[2]],[[3],[4]]])\n",
    "print(x)"
   ]
  },
  {
   "cell_type": "code",
   "execution_count": 44,
   "metadata": {},
   "outputs": [
    {
     "name": "stdout",
     "output_type": "stream",
     "text": [
      "[[2 1]\n",
      " [1 3]]\n",
      "[[4 1]\n",
      " [1 9]]\n",
      "[[3 4]\n",
      " [1 3]]\n",
      "[[ 9 16]\n",
      " [ 1  9]]\n"
     ]
    }
   ],
   "source": [
    "a=np.array([[2,1],[1,3]])\n",
    "print(a)\n",
    "print(a*a)\n",
    "\n",
    "b=np.array([[3,4],[1,3]])\n",
    "print(b)\n",
    "print(b*b)"
   ]
  },
  {
   "cell_type": "code",
   "execution_count": null,
   "metadata": {},
   "outputs": [],
   "source": []
  }
 ],
 "metadata": {
  "kernelspec": {
   "display_name": "Python 3",
   "language": "python",
   "name": "python3"
  },
  "language_info": {
   "codemirror_mode": {
    "name": "ipython",
    "version": 3
   },
   "file_extension": ".py",
   "mimetype": "text/x-python",
   "name": "python",
   "nbconvert_exporter": "python",
   "pygments_lexer": "ipython3",
   "version": "3.8.5"
  }
 },
 "nbformat": 4,
 "nbformat_minor": 4
}
