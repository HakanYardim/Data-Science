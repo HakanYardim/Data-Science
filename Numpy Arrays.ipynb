{
 "cells": [
  {
   "cell_type": "code",
   "execution_count": 18,
   "metadata": {},
   "outputs": [
    {
     "name": "stdout",
     "output_type": "stream",
     "text": [
      "[[ 0.46101072  2.23421037 -0.07621505]\n",
      " [ 0.82964812 -0.24831979  0.09687347]\n",
      " [-0.92218246 -0.14247281 -0.0367425 ]\n",
      " [ 0.52053786 -1.24896606  0.08192561]]\n"
     ]
    }
   ],
   "source": [
    "import numpy as np\n",
    "a=np.random.randn(4,3) # a.shape = (4, 3)a.shape=(4,3)\n",
    "\n",
    "b = np.random.randn(1, 3) # b.shape = (1, 3)b.shape=(1,3)\n",
    "\n",
    "c = a*b\n",
    "print(c)"
   ]
  },
  {
   "cell_type": "code",
   "execution_count": 21,
   "metadata": {
    "scrolled": false
   },
   "outputs": [
    {
     "name": "stdout",
     "output_type": "stream",
     "text": [
      "[[ 0.28259466]\n",
      " [ 0.20234049]\n",
      " [ 0.17694644]\n",
      " [-0.1163949 ]\n",
      " [-0.13529891]\n",
      " [-3.13794791]\n",
      " [ 0.76475351]\n",
      " [-1.05356077]]\n"
     ]
    },
    {
     "data": {
      "text/plain": [
       "array([[[ 0.28259466,  0.20234049],\n",
       "        [ 0.17694644, -0.1163949 ]],\n",
       "\n",
       "       [[-0.13529891, -3.13794791],\n",
       "        [ 0.76475351, -1.05356077]]])"
      ]
     },
     "execution_count": 21,
     "metadata": {},
     "output_type": "execute_result"
    }
   ],
   "source": [
    "x = np.random.randn(8,1)\n",
    "print(x)\n",
    "x.reshape(2,2,2) #3D-array"
   ]
  },
  {
   "cell_type": "code",
   "execution_count": null,
   "metadata": {},
   "outputs": [],
   "source": []
  },
  {
   "cell_type": "code",
   "execution_count": null,
   "metadata": {},
   "outputs": [],
   "source": []
  }
 ],
 "metadata": {
  "kernelspec": {
   "display_name": "Python 3",
   "language": "python",
   "name": "python3"
  },
  "language_info": {
   "codemirror_mode": {
    "name": "ipython",
    "version": 3
   },
   "file_extension": ".py",
   "mimetype": "text/x-python",
   "name": "python",
   "nbconvert_exporter": "python",
   "pygments_lexer": "ipython3",
   "version": "3.8.5"
  }
 },
 "nbformat": 4,
 "nbformat_minor": 4
}
