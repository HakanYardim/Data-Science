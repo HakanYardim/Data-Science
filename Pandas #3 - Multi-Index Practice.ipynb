{
 "cells": [
  {
   "cell_type": "code",
   "execution_count": 1,
   "metadata": {},
   "outputs": [],
   "source": [
    "import numpy as np\n",
    "import pandas as pd"
   ]
  },
  {
   "cell_type": "code",
   "execution_count": 25,
   "metadata": {},
   "outputs": [],
   "source": [
    "outerIndex = [\"Yardım\",\"Yardım\",\"Yardım\",\"Yavuz\",\"Yavuz\",\"Yavuz\"]"
   ]
  },
  {
   "cell_type": "code",
   "execution_count": 26,
   "metadata": {},
   "outputs": [],
   "source": [
    "innerIndex = [\"Hasan\",\"Zişan\",\"Mehmet\",\"Serpil\",\"Seval\",\"Sevil\"]"
   ]
  },
  {
   "cell_type": "code",
   "execution_count": 27,
   "metadata": {},
   "outputs": [],
   "source": [
    "combinedIndex = (list(zip(outerIndex,innerIndex)))"
   ]
  },
  {
   "cell_type": "code",
   "execution_count": 28,
   "metadata": {},
   "outputs": [
    {
     "data": {
      "text/plain": [
       "[('Yardım', 'Hasan'),\n",
       " ('Yardım', 'Zişan'),\n",
       " ('Yardım', 'Mehmet'),\n",
       " ('Yavuz', 'Serpil'),\n",
       " ('Yavuz', 'Seval'),\n",
       " ('Yavuz', 'Sevil')]"
      ]
     },
     "execution_count": 28,
     "metadata": {},
     "output_type": "execute_result"
    }
   ],
   "source": [
    "combinedIndex"
   ]
  },
  {
   "cell_type": "code",
   "execution_count": 29,
   "metadata": {},
   "outputs": [],
   "source": [
    "combinedIndex = pd.MultiIndex.from_tuples(combinedIndex)"
   ]
  },
  {
   "cell_type": "code",
   "execution_count": 30,
   "metadata": {},
   "outputs": [
    {
     "data": {
      "text/plain": [
       "MultiIndex([('Yardım',  'Hasan'),\n",
       "            ('Yardım',  'Zişan'),\n",
       "            ('Yardım', 'Mehmet'),\n",
       "            ( 'Yavuz', 'Serpil'),\n",
       "            ( 'Yavuz',  'Seval'),\n",
       "            ( 'Yavuz',  'Sevil')],\n",
       "           )"
      ]
     },
     "execution_count": 30,
     "metadata": {},
     "output_type": "execute_result"
    }
   ],
   "source": [
    "combinedIndex"
   ]
  },
  {
   "cell_type": "code",
   "execution_count": 31,
   "metadata": {},
   "outputs": [
    {
     "data": {
      "text/plain": [
       "pandas.core.indexes.multi.MultiIndex"
      ]
     },
     "execution_count": 31,
     "metadata": {},
     "output_type": "execute_result"
    }
   ],
   "source": [
    "type(combinedIndex)"
   ]
  },
  {
   "cell_type": "code",
   "execution_count": 39,
   "metadata": {},
   "outputs": [],
   "source": [
    "familyNames = [[52,\"Sistem Yöneticisi\"],[51,\"Öğretmen\"],\n",
    "[37,\"Yazılımcı\"],[49,\"Proje Yönetimi\"],[56,\"Bankacı\"],[60,\"Dil Öğretmeni\"]]"
   ]
  },
  {
   "cell_type": "code",
   "execution_count": 40,
   "metadata": {},
   "outputs": [],
   "source": [
    "familyNamesArray = np.array(familyNames)"
   ]
  },
  {
   "cell_type": "code",
   "execution_count": 41,
   "metadata": {},
   "outputs": [],
   "source": [
    "familyNamesDataFrame = pd.DataFrame(data = familyNamesArray,\n",
    "index = combinedIndex, columns = [\"Age\",\"Job\"])"
   ]
  },
  {
   "cell_type": "code",
   "execution_count": 42,
   "metadata": {},
   "outputs": [
    {
     "data": {
      "text/html": [
       "<div>\n",
       "<style scoped>\n",
       "    .dataframe tbody tr th:only-of-type {\n",
       "        vertical-align: middle;\n",
       "    }\n",
       "\n",
       "    .dataframe tbody tr th {\n",
       "        vertical-align: top;\n",
       "    }\n",
       "\n",
       "    .dataframe thead th {\n",
       "        text-align: right;\n",
       "    }\n",
       "</style>\n",
       "<table border=\"1\" class=\"dataframe\">\n",
       "  <thead>\n",
       "    <tr style=\"text-align: right;\">\n",
       "      <th></th>\n",
       "      <th></th>\n",
       "      <th>Age</th>\n",
       "      <th>Job</th>\n",
       "    </tr>\n",
       "  </thead>\n",
       "  <tbody>\n",
       "    <tr>\n",
       "      <th rowspan=\"3\" valign=\"top\">Yardım</th>\n",
       "      <th>Hasan</th>\n",
       "      <td>52</td>\n",
       "      <td>Sistem Yöneticisi</td>\n",
       "    </tr>\n",
       "    <tr>\n",
       "      <th>Zişan</th>\n",
       "      <td>51</td>\n",
       "      <td>Öğretmen</td>\n",
       "    </tr>\n",
       "    <tr>\n",
       "      <th>Mehmet</th>\n",
       "      <td>37</td>\n",
       "      <td>Yazılımcı</td>\n",
       "    </tr>\n",
       "    <tr>\n",
       "      <th rowspan=\"3\" valign=\"top\">Yavuz</th>\n",
       "      <th>Serpil</th>\n",
       "      <td>49</td>\n",
       "      <td>Proje Yönetimi</td>\n",
       "    </tr>\n",
       "    <tr>\n",
       "      <th>Seval</th>\n",
       "      <td>56</td>\n",
       "      <td>Bankacı</td>\n",
       "    </tr>\n",
       "    <tr>\n",
       "      <th>Sevil</th>\n",
       "      <td>60</td>\n",
       "      <td>Dil Öğretmeni</td>\n",
       "    </tr>\n",
       "  </tbody>\n",
       "</table>\n",
       "</div>"
      ],
      "text/plain": [
       "              Age                Job\n",
       "Yardım Hasan   52  Sistem Yöneticisi\n",
       "       Zişan   51           Öğretmen\n",
       "       Mehmet  37          Yazılımcı\n",
       "Yavuz  Serpil  49     Proje Yönetimi\n",
       "       Seval   56            Bankacı\n",
       "       Sevil   60      Dil Öğretmeni"
      ]
     },
     "execution_count": 42,
     "metadata": {},
     "output_type": "execute_result"
    }
   ],
   "source": [
    "familyNamesDataFrame"
   ]
  },
  {
   "cell_type": "code",
   "execution_count": 38,
   "metadata": {},
   "outputs": [
    {
     "data": {
      "text/html": [
       "<div>\n",
       "<style scoped>\n",
       "    .dataframe tbody tr th:only-of-type {\n",
       "        vertical-align: middle;\n",
       "    }\n",
       "\n",
       "    .dataframe tbody tr th {\n",
       "        vertical-align: top;\n",
       "    }\n",
       "\n",
       "    .dataframe thead th {\n",
       "        text-align: right;\n",
       "    }\n",
       "</style>\n",
       "<table border=\"1\" class=\"dataframe\">\n",
       "  <thead>\n",
       "    <tr style=\"text-align: right;\">\n",
       "      <th></th>\n",
       "      <th>Age</th>\n",
       "      <th>Job</th>\n",
       "    </tr>\n",
       "  </thead>\n",
       "  <tbody>\n",
       "    <tr>\n",
       "      <th>Hasan</th>\n",
       "      <td>52</td>\n",
       "      <td>Sistem Yöneticisi</td>\n",
       "    </tr>\n",
       "    <tr>\n",
       "      <th>Zişan</th>\n",
       "      <td>51</td>\n",
       "      <td>Öğrertmen</td>\n",
       "    </tr>\n",
       "    <tr>\n",
       "      <th>Mehmet</th>\n",
       "      <td>37</td>\n",
       "      <td>Yazılımcı</td>\n",
       "    </tr>\n",
       "  </tbody>\n",
       "</table>\n",
       "</div>"
      ],
      "text/plain": [
       "       Age                Job\n",
       "Hasan   52  Sistem Yöneticisi\n",
       "Zişan   51          Öğrertmen\n",
       "Mehmet  37          Yazılımcı"
      ]
     },
     "execution_count": 38,
     "metadata": {},
     "output_type": "execute_result"
    }
   ],
   "source": [
    "familyNamesDataFrame.loc[\"Yardım\"]"
   ]
  },
  {
   "cell_type": "code",
   "execution_count": 43,
   "metadata": {},
   "outputs": [
    {
     "data": {
      "text/plain": [
       "Age                   52\n",
       "Job    Sistem Yöneticisi\n",
       "Name: Hasan, dtype: object"
      ]
     },
     "execution_count": 43,
     "metadata": {},
     "output_type": "execute_result"
    }
   ],
   "source": [
    "familyNamesDataFrame.loc[\"Yardım\"].loc[\"Hasan\"]"
   ]
  },
  {
   "cell_type": "code",
   "execution_count": 48,
   "metadata": {},
   "outputs": [],
   "source": [
    "familyNamesDataFrame.index.names = [\"Surname\",\"Name\"]"
   ]
  },
  {
   "cell_type": "code",
   "execution_count": 49,
   "metadata": {},
   "outputs": [
    {
     "data": {
      "text/html": [
       "<div>\n",
       "<style scoped>\n",
       "    .dataframe tbody tr th:only-of-type {\n",
       "        vertical-align: middle;\n",
       "    }\n",
       "\n",
       "    .dataframe tbody tr th {\n",
       "        vertical-align: top;\n",
       "    }\n",
       "\n",
       "    .dataframe thead th {\n",
       "        text-align: right;\n",
       "    }\n",
       "</style>\n",
       "<table border=\"1\" class=\"dataframe\">\n",
       "  <thead>\n",
       "    <tr style=\"text-align: right;\">\n",
       "      <th></th>\n",
       "      <th></th>\n",
       "      <th>Age</th>\n",
       "      <th>Job</th>\n",
       "    </tr>\n",
       "    <tr>\n",
       "      <th>Surname</th>\n",
       "      <th>Name</th>\n",
       "      <th></th>\n",
       "      <th></th>\n",
       "    </tr>\n",
       "  </thead>\n",
       "  <tbody>\n",
       "    <tr>\n",
       "      <th rowspan=\"3\" valign=\"top\">Yardım</th>\n",
       "      <th>Hasan</th>\n",
       "      <td>52</td>\n",
       "      <td>Sistem Yöneticisi</td>\n",
       "    </tr>\n",
       "    <tr>\n",
       "      <th>Zişan</th>\n",
       "      <td>51</td>\n",
       "      <td>Öğretmen</td>\n",
       "    </tr>\n",
       "    <tr>\n",
       "      <th>Mehmet</th>\n",
       "      <td>37</td>\n",
       "      <td>Yazılımcı</td>\n",
       "    </tr>\n",
       "    <tr>\n",
       "      <th rowspan=\"3\" valign=\"top\">Yavuz</th>\n",
       "      <th>Serpil</th>\n",
       "      <td>49</td>\n",
       "      <td>Proje Yönetimi</td>\n",
       "    </tr>\n",
       "    <tr>\n",
       "      <th>Seval</th>\n",
       "      <td>56</td>\n",
       "      <td>Bankacı</td>\n",
       "    </tr>\n",
       "    <tr>\n",
       "      <th>Sevil</th>\n",
       "      <td>60</td>\n",
       "      <td>Dil Öğretmeni</td>\n",
       "    </tr>\n",
       "  </tbody>\n",
       "</table>\n",
       "</div>"
      ],
      "text/plain": [
       "               Age                Job\n",
       "Surname Name                         \n",
       "Yardım  Hasan   52  Sistem Yöneticisi\n",
       "        Zişan   51           Öğretmen\n",
       "        Mehmet  37          Yazılımcı\n",
       "Yavuz   Serpil  49     Proje Yönetimi\n",
       "        Seval   56            Bankacı\n",
       "        Sevil   60      Dil Öğretmeni"
      ]
     },
     "execution_count": 49,
     "metadata": {},
     "output_type": "execute_result"
    }
   ],
   "source": [
    "familyNamesDataFrame"
   ]
  },
  {
   "cell_type": "code",
   "execution_count": null,
   "metadata": {},
   "outputs": [],
   "source": []
  }
 ],
 "metadata": {
  "kernelspec": {
   "display_name": "Python 3",
   "language": "python",
   "name": "python3"
  },
  "language_info": {
   "codemirror_mode": {
    "name": "ipython",
    "version": 3
   },
   "file_extension": ".py",
   "mimetype": "text/x-python",
   "name": "python",
   "nbconvert_exporter": "python",
   "pygments_lexer": "ipython3",
   "version": "3.8.5"
  }
 },
 "nbformat": 4,
 "nbformat_minor": 4
}
